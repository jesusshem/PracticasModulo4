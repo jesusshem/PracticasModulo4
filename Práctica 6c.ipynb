{
 "cells": [
  {
   "cell_type": "markdown",
   "metadata": {},
   "source": [
    "# Práctica 6c: estadísticas de validación de clústers"
   ]
  },
  {
   "cell_type": "code",
   "execution_count": 1,
   "metadata": {},
   "outputs": [
    {
     "name": "stderr",
     "output_type": "stream",
     "text": [
      "Warning message:\n",
      "\"package 'factoextra' was built under R version 3.5.3\"Loading required package: ggplot2\n",
      "Warning message:\n",
      "\"package 'ggplot2' was built under R version 3.5.3\"Welcome! Related Books: `Practical Guide To Cluster Analysis in R` at https://goo.gl/13EFCZ\n",
      "Warning message:\n",
      "\"package 'clusterCrit' was built under R version 3.5.3\""
     ]
    }
   ],
   "source": [
    "library(factoextra) \n",
    "library(clusterCrit)"
   ]
  },
  {
   "cell_type": "code",
   "execution_count": 2,
   "metadata": {},
   "outputs": [],
   "source": [
    "df <- read.csv('num_mesnajes.csv')"
   ]
  },
  {
   "cell_type": "code",
   "execution_count": 3,
   "metadata": {},
   "outputs": [
    {
     "data": {
      "text/html": [
       "<table>\n",
       "<thead><tr><th scope=col>minutos</th><th scope=col>num_mensajes</th></tr></thead>\n",
       "<tbody>\n",
       "\t<tr><td> 1</td><td>4 </td></tr>\n",
       "\t<tr><td> 2</td><td>2 </td></tr>\n",
       "\t<tr><td> 3</td><td>6 </td></tr>\n",
       "\t<tr><td> 4</td><td>3 </td></tr>\n",
       "\t<tr><td> 9</td><td>2 </td></tr>\n",
       "\t<tr><td>10</td><td>4 </td></tr>\n",
       "</tbody>\n",
       "</table>\n"
      ],
      "text/latex": [
       "\\begin{tabular}{r|ll}\n",
       " minutos & num\\_mensajes\\\\\n",
       "\\hline\n",
       "\t  1 & 4 \\\\\n",
       "\t  2 & 2 \\\\\n",
       "\t  3 & 6 \\\\\n",
       "\t  4 & 3 \\\\\n",
       "\t  9 & 2 \\\\\n",
       "\t 10 & 4 \\\\\n",
       "\\end{tabular}\n"
      ],
      "text/markdown": [
       "\n",
       "| minutos | num_mensajes |\n",
       "|---|---|\n",
       "|  1 | 4  |\n",
       "|  2 | 2  |\n",
       "|  3 | 6  |\n",
       "|  4 | 3  |\n",
       "|  9 | 2  |\n",
       "| 10 | 4  |\n",
       "\n"
      ],
      "text/plain": [
       "  minutos num_mensajes\n",
       "1  1      4           \n",
       "2  2      2           \n",
       "3  3      6           \n",
       "4  4      3           \n",
       "5  9      2           \n",
       "6 10      4           "
      ]
     },
     "metadata": {},
     "output_type": "display_data"
    }
   ],
   "source": [
    "head(df, 6)"
   ]
  },
  {
   "cell_type": "code",
   "execution_count": 31,
   "metadata": {},
   "outputs": [],
   "source": [
    "data <- as.matrix(cbind(as.numeric(df$minutos), as.numeric(df$num_mensajes)))"
   ]
  },
  {
   "cell_type": "code",
   "execution_count": 32,
   "metadata": {},
   "outputs": [
    {
     "data": {
      "text/html": [
       "<table>\n",
       "<tbody>\n",
       "\t<tr><td> 1</td><td>4 </td></tr>\n",
       "\t<tr><td> 2</td><td>2 </td></tr>\n",
       "\t<tr><td> 3</td><td>6 </td></tr>\n",
       "\t<tr><td> 4</td><td>3 </td></tr>\n",
       "\t<tr><td> 9</td><td>2 </td></tr>\n",
       "\t<tr><td>10</td><td>4 </td></tr>\n",
       "\t<tr><td>16</td><td>1 </td></tr>\n",
       "\t<tr><td>18</td><td>1 </td></tr>\n",
       "\t<tr><td>19</td><td>7 </td></tr>\n",
       "\t<tr><td>20</td><td>2 </td></tr>\n",
       "\t<tr><td>21</td><td>7 </td></tr>\n",
       "\t<tr><td>22</td><td>6 </td></tr>\n",
       "\t<tr><td>23</td><td>1 </td></tr>\n",
       "\t<tr><td>24</td><td>2 </td></tr>\n",
       "\t<tr><td>29</td><td>4 </td></tr>\n",
       "\t<tr><td>30</td><td>4 </td></tr>\n",
       "\t<tr><td>32</td><td>4 </td></tr>\n",
       "\t<tr><td>33</td><td>3 </td></tr>\n",
       "\t<tr><td>36</td><td>1 </td></tr>\n",
       "\t<tr><td>38</td><td>2 </td></tr>\n",
       "\t<tr><td>45</td><td>1 </td></tr>\n",
       "\t<tr><td>63</td><td>1 </td></tr>\n",
       "\t<tr><td>64</td><td>1 </td></tr>\n",
       "\t<tr><td>66</td><td>2 </td></tr>\n",
       "\t<tr><td>68</td><td>1 </td></tr>\n",
       "\t<tr><td>69</td><td>4 </td></tr>\n",
       "\t<tr><td>70</td><td>2 </td></tr>\n",
       "\t<tr><td>71</td><td>1 </td></tr>\n",
       "\t<tr><td>74</td><td>1 </td></tr>\n",
       "\t<tr><td>77</td><td>2 </td></tr>\n",
       "\t<tr><td><U+22EE></td><td><U+22EE></td></tr>\n",
       "\t<tr><td>1409</td><td> 1  </td></tr>\n",
       "\t<tr><td>1410</td><td> 1  </td></tr>\n",
       "\t<tr><td>1411</td><td> 4  </td></tr>\n",
       "\t<tr><td>1413</td><td> 1  </td></tr>\n",
       "\t<tr><td>1414</td><td> 1  </td></tr>\n",
       "\t<tr><td>1415</td><td> 3  </td></tr>\n",
       "\t<tr><td>1416</td><td> 9  </td></tr>\n",
       "\t<tr><td>1417</td><td> 9  </td></tr>\n",
       "\t<tr><td>1418</td><td> 7  </td></tr>\n",
       "\t<tr><td>1419</td><td> 5  </td></tr>\n",
       "\t<tr><td>1420</td><td> 1  </td></tr>\n",
       "\t<tr><td>1421</td><td> 2  </td></tr>\n",
       "\t<tr><td>1422</td><td> 2  </td></tr>\n",
       "\t<tr><td>1423</td><td> 3  </td></tr>\n",
       "\t<tr><td>1424</td><td> 2  </td></tr>\n",
       "\t<tr><td>1425</td><td> 2  </td></tr>\n",
       "\t<tr><td>1426</td><td> 9  </td></tr>\n",
       "\t<tr><td>1427</td><td> 5  </td></tr>\n",
       "\t<tr><td>1428</td><td> 2  </td></tr>\n",
       "\t<tr><td>1429</td><td> 9  </td></tr>\n",
       "\t<tr><td>1430</td><td>12  </td></tr>\n",
       "\t<tr><td>1431</td><td> 7  </td></tr>\n",
       "\t<tr><td>1432</td><td> 6  </td></tr>\n",
       "\t<tr><td>1433</td><td> 7  </td></tr>\n",
       "\t<tr><td>1434</td><td> 3  </td></tr>\n",
       "\t<tr><td>1435</td><td> 3  </td></tr>\n",
       "\t<tr><td>1436</td><td> 1  </td></tr>\n",
       "\t<tr><td>1438</td><td> 1  </td></tr>\n",
       "\t<tr><td>1439</td><td> 1  </td></tr>\n",
       "\t<tr><td>1440</td><td> 1  </td></tr>\n",
       "</tbody>\n",
       "</table>\n"
      ],
      "text/latex": [
       "\\begin{tabular}{ll}\n",
       "\t  1 & 4 \\\\\n",
       "\t  2 & 2 \\\\\n",
       "\t  3 & 6 \\\\\n",
       "\t  4 & 3 \\\\\n",
       "\t  9 & 2 \\\\\n",
       "\t 10 & 4 \\\\\n",
       "\t 16 & 1 \\\\\n",
       "\t 18 & 1 \\\\\n",
       "\t 19 & 7 \\\\\n",
       "\t 20 & 2 \\\\\n",
       "\t 21 & 7 \\\\\n",
       "\t 22 & 6 \\\\\n",
       "\t 23 & 1 \\\\\n",
       "\t 24 & 2 \\\\\n",
       "\t 29 & 4 \\\\\n",
       "\t 30 & 4 \\\\\n",
       "\t 32 & 4 \\\\\n",
       "\t 33 & 3 \\\\\n",
       "\t 36 & 1 \\\\\n",
       "\t 38 & 2 \\\\\n",
       "\t 45 & 1 \\\\\n",
       "\t 63 & 1 \\\\\n",
       "\t 64 & 1 \\\\\n",
       "\t 66 & 2 \\\\\n",
       "\t 68 & 1 \\\\\n",
       "\t 69 & 4 \\\\\n",
       "\t 70 & 2 \\\\\n",
       "\t 71 & 1 \\\\\n",
       "\t 74 & 1 \\\\\n",
       "\t 77 & 2 \\\\\n",
       "\t <U+22EE> & <U+22EE>\\\\\n",
       "\t 1409 &  1  \\\\\n",
       "\t 1410 &  1  \\\\\n",
       "\t 1411 &  4  \\\\\n",
       "\t 1413 &  1  \\\\\n",
       "\t 1414 &  1  \\\\\n",
       "\t 1415 &  3  \\\\\n",
       "\t 1416 &  9  \\\\\n",
       "\t 1417 &  9  \\\\\n",
       "\t 1418 &  7  \\\\\n",
       "\t 1419 &  5  \\\\\n",
       "\t 1420 &  1  \\\\\n",
       "\t 1421 &  2  \\\\\n",
       "\t 1422 &  2  \\\\\n",
       "\t 1423 &  3  \\\\\n",
       "\t 1424 &  2  \\\\\n",
       "\t 1425 &  2  \\\\\n",
       "\t 1426 &  9  \\\\\n",
       "\t 1427 &  5  \\\\\n",
       "\t 1428 &  2  \\\\\n",
       "\t 1429 &  9  \\\\\n",
       "\t 1430 & 12  \\\\\n",
       "\t 1431 &  7  \\\\\n",
       "\t 1432 &  6  \\\\\n",
       "\t 1433 &  7  \\\\\n",
       "\t 1434 &  3  \\\\\n",
       "\t 1435 &  3  \\\\\n",
       "\t 1436 &  1  \\\\\n",
       "\t 1438 &  1  \\\\\n",
       "\t 1439 &  1  \\\\\n",
       "\t 1440 &  1  \\\\\n",
       "\\end{tabular}\n"
      ],
      "text/markdown": [
       "\n",
       "|  1 | 4  |\n",
       "|  2 | 2  |\n",
       "|  3 | 6  |\n",
       "|  4 | 3  |\n",
       "|  9 | 2  |\n",
       "| 10 | 4  |\n",
       "| 16 | 1  |\n",
       "| 18 | 1  |\n",
       "| 19 | 7  |\n",
       "| 20 | 2  |\n",
       "| 21 | 7  |\n",
       "| 22 | 6  |\n",
       "| 23 | 1  |\n",
       "| 24 | 2  |\n",
       "| 29 | 4  |\n",
       "| 30 | 4  |\n",
       "| 32 | 4  |\n",
       "| 33 | 3  |\n",
       "| 36 | 1  |\n",
       "| 38 | 2  |\n",
       "| 45 | 1  |\n",
       "| 63 | 1  |\n",
       "| 64 | 1  |\n",
       "| 66 | 2  |\n",
       "| 68 | 1  |\n",
       "| 69 | 4  |\n",
       "| 70 | 2  |\n",
       "| 71 | 1  |\n",
       "| 74 | 1  |\n",
       "| 77 | 2  |\n",
       "| <U+22EE> | <U+22EE> |\n",
       "| 1409 |  1   |\n",
       "| 1410 |  1   |\n",
       "| 1411 |  4   |\n",
       "| 1413 |  1   |\n",
       "| 1414 |  1   |\n",
       "| 1415 |  3   |\n",
       "| 1416 |  9   |\n",
       "| 1417 |  9   |\n",
       "| 1418 |  7   |\n",
       "| 1419 |  5   |\n",
       "| 1420 |  1   |\n",
       "| 1421 |  2   |\n",
       "| 1422 |  2   |\n",
       "| 1423 |  3   |\n",
       "| 1424 |  2   |\n",
       "| 1425 |  2   |\n",
       "| 1426 |  9   |\n",
       "| 1427 |  5   |\n",
       "| 1428 |  2   |\n",
       "| 1429 |  9   |\n",
       "| 1430 | 12   |\n",
       "| 1431 |  7   |\n",
       "| 1432 |  6   |\n",
       "| 1433 |  7   |\n",
       "| 1434 |  3   |\n",
       "| 1435 |  3   |\n",
       "| 1436 |  1   |\n",
       "| 1438 |  1   |\n",
       "| 1439 |  1   |\n",
       "| 1440 |  1   |\n",
       "\n"
      ],
      "text/plain": [
       "      [,1] [,2]\n",
       " [1,]  1   4   \n",
       " [2,]  2   2   \n",
       " [3,]  3   6   \n",
       " [4,]  4   3   \n",
       " [5,]  9   2   \n",
       " [6,] 10   4   \n",
       " [7,] 16   1   \n",
       " [8,] 18   1   \n",
       " [9,] 19   7   \n",
       "[10,] 20   2   \n",
       "[11,] 21   7   \n",
       "[12,] 22   6   \n",
       "[13,] 23   1   \n",
       "[14,] 24   2   \n",
       "[15,] 29   4   \n",
       "[16,] 30   4   \n",
       "[17,] 32   4   \n",
       "[18,] 33   3   \n",
       "[19,] 36   1   \n",
       "[20,] 38   2   \n",
       "[21,] 45   1   \n",
       "[22,] 63   1   \n",
       "[23,] 64   1   \n",
       "[24,] 66   2   \n",
       "[25,] 68   1   \n",
       "[26,] 69   4   \n",
       "[27,] 70   2   \n",
       "[28,] 71   1   \n",
       "[29,] 74   1   \n",
       "[30,] 77   2   \n",
       "[31,] <U+22EE> <U+22EE>\n",
       "[32,] 1409  1  \n",
       "[33,] 1410  1  \n",
       "[34,] 1411  4  \n",
       "[35,] 1413  1  \n",
       "[36,] 1414  1  \n",
       "[37,] 1415  3  \n",
       "[38,] 1416  9  \n",
       "[39,] 1417  9  \n",
       "[40,] 1418  7  \n",
       "[41,] 1419  5  \n",
       "[42,] 1420  1  \n",
       "[43,] 1421  2  \n",
       "[44,] 1422  2  \n",
       "[45,] 1423  3  \n",
       "[46,] 1424  2  \n",
       "[47,] 1425  2  \n",
       "[48,] 1426  9  \n",
       "[49,] 1427  5  \n",
       "[50,] 1428  2  \n",
       "[51,] 1429  9  \n",
       "[52,] 1430 12  \n",
       "[53,] 1431  7  \n",
       "[54,] 1432  6  \n",
       "[55,] 1433  7  \n",
       "[56,] 1434  3  \n",
       "[57,] 1435  3  \n",
       "[58,] 1436  1  \n",
       "[59,] 1438  1  \n",
       "[60,] 1439  1  \n",
       "[61,] 1440  1  "
      ]
     },
     "metadata": {},
     "output_type": "display_data"
    }
   ],
   "source": [
    "data"
   ]
  },
  {
   "cell_type": "code",
   "execution_count": 33,
   "metadata": {},
   "outputs": [],
   "source": [
    "#data <- as.matrix(cbind(df$minutos, df$num_mensajes))\n",
    "\n",
    "range_k = 2:10\n",
    "dunn_kmeans <- c()\n",
    "set.seed(123)\n",
    "\n",
    "for (k in range_k) {\n",
    "  set.seed(123)\n",
    "  \n",
    "  kmeans <- stats::kmeans(x = data, centers = k, nstart = 25)\n",
    "  \n",
    "  index_internal_kmeans <- clusterCrit::intCriteria(traj = data,\n",
    "                                                    part = as.integer(kmeans$cluster), \n",
    "                                                    crit = \"dunn\")\n",
    "  dunn_kmeans[k-1] <- index_internal_kmeans$dunn\n",
    "}"
   ]
  },
  {
   "cell_type": "code",
   "execution_count": 34,
   "metadata": {},
   "outputs": [
    {
     "data": {
      "text/html": [
       "<ol class=list-inline>\n",
       "\t<li>0.00462427436648547</li>\n",
       "\t<li>0.00216240353082623</li>\n",
       "\t<li>0.00378752557150604</li>\n",
       "\t<li>0.00593461359065703</li>\n",
       "\t<li>0.00655723607276355</li>\n",
       "\t<li>0.00856724737627864</li>\n",
       "\t<li>0.00628539361054709</li>\n",
       "\t<li>0.0067983965832986</li>\n",
       "\t<li>0.00480719232524589</li>\n",
       "</ol>\n"
      ],
      "text/latex": [
       "\\begin{enumerate*}\n",
       "\\item 0.00462427436648547\n",
       "\\item 0.00216240353082623\n",
       "\\item 0.00378752557150604\n",
       "\\item 0.00593461359065703\n",
       "\\item 0.00655723607276355\n",
       "\\item 0.00856724737627864\n",
       "\\item 0.00628539361054709\n",
       "\\item 0.0067983965832986\n",
       "\\item 0.00480719232524589\n",
       "\\end{enumerate*}\n"
      ],
      "text/markdown": [
       "1. 0.00462427436648547\n",
       "2. 0.00216240353082623\n",
       "3. 0.00378752557150604\n",
       "4. 0.00593461359065703\n",
       "5. 0.00655723607276355\n",
       "6. 0.00856724737627864\n",
       "7. 0.00628539361054709\n",
       "8. 0.0067983965832986\n",
       "9. 0.00480719232524589\n",
       "\n",
       "\n"
      ],
      "text/plain": [
       "[1] 0.004624274 0.002162404 0.003787526 0.005934614 0.006557236 0.008567247\n",
       "[7] 0.006285394 0.006798397 0.004807192"
      ]
     },
     "metadata": {},
     "output_type": "display_data"
    }
   ],
   "source": [
    "dunn_kmeans"
   ]
  },
  {
   "cell_type": "code",
   "execution_count": 35,
   "metadata": {},
   "outputs": [
    {
     "data": {
      "image/png": "[encoded data removed]",
      "text/plain": [
       "plot without title"
      ]
     },
     "metadata": {},
     "output_type": "display_data"
    }
   ],
   "source": [
    "plot_dunn_kmeans <- ggplot2::qplot(x = range_k, \n",
    "                                   y = dunn_kmeans, \n",
    "                                   geom = 'line', \n",
    "                                   main = 'k-means', \n",
    "                                   xlab = 'k', \n",
    "                                   ylab = 'Distance Ratio')\n",
    "\n",
    "plot_dunn_kmeans <- plot_dunn_kmeans  + \n",
    "  theme_bw() + #ylim(0,0.3) + \n",
    "  geom_vline(xintercept = range_k[which.max(dunn_kmeans)],\n",
    "             linetype = 2, color='red')   \n",
    "#ggsave(filename = \"../../images/enh/dunn_kmeans_2_15.png\", dpi = 300)\n",
    "\n",
    "plot_dunn_kmeans"
   ]
  },
  {
   "cell_type": "code",
   "execution_count": 46,
   "metadata": {},
   "outputs": [],
   "source": [
    "kmeans <- stats::kmeans(x = data, \n",
    "                        centers = range_k[which.max(dunn_kmeans)], \n",
    "                        nstart = 25)"
   ]
  },
  {
   "cell_type": "code",
   "execution_count": 50,
   "metadata": {},
   "outputs": [
    {
     "data": {
      "image/png": "[encoded data removed]",
      "text/plain": [
       "plot without title"
      ]
     },
     "metadata": {},
     "output_type": "display_data"
    }
   ],
   "source": [
    "plot_kmeans <- factoextra::fviz_cluster(object = kmeans,\n",
    "                                        data = df,\n",
    "                                        stand = F, \n",
    "                                        geom =  'point', \n",
    "                                        ellipse.type = 'convex',\n",
    "                                        ellipse = T,\n",
    "                                        main = paste('Clustering: k-means k:', range_k[which.max(dunn_kmeans)]),\n",
    "                                        outlier.color = 'black',\n",
    "                                        show.clust.cent = T)\n",
    "\n",
    "plot_kmeans <- plot_kmeans + \n",
    "  theme_bw() +\n",
    "  theme(legend.position = 'bottom')\n",
    "\n",
    "plot_kmeans"
   ]
  },
  {
   "cell_type": "code",
   "execution_count": null,
   "metadata": {},
   "outputs": [],
   "source": []
  }
 ],
 "metadata": {
  "kernelspec": {
   "display_name": "R",
   "language": "R",
   "name": "ir"
  },
  "language_info": {
   "codemirror_mode": "r",
   "file_extension": ".r",
   "mimetype": "text/x-r-source",
   "name": "R",
   "pygments_lexer": "r",
   "version": "3.5.1"
  }
 },
 "nbformat": 4,
 "nbformat_minor": 4
}
