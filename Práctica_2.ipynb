{
 "cells": [
  {
   "cell_type": "markdown",
   "metadata": {
    "colab_type": "text",
    "id": "X1xALvaQWBX_"
   },
   "source": [
    "# Práctica 2: \n",
    "\n"
   ]
  },
  {
   "cell_type": "markdown",
   "metadata": {},
   "source": [
    "# Librerías"
   ]
  },
  {
   "cell_type": "markdown",
   "metadata": {
    "colab_type": "text",
    "id": "4oDcuDDhxM7Z"
   },
   "source": [
    "Importar paquetes"
   ]
  },
  {
   "cell_type": "code",
   "execution_count": 5,
   "metadata": {
    "colab": {},
    "colab_type": "code",
    "id": "nRC76vegwaW7"
   },
   "outputs": [],
   "source": [
    "import pandas as pd\n",
    "import missingno as msno\n",
    "import numpy as np\n",
    "%matplotlib inline"
   ]
  },
  {
   "cell_type": "markdown",
   "metadata": {},
   "source": [
    "# Importación de datos"
   ]
  },
  {
   "cell_type": "markdown",
   "metadata": {
    "colab_type": "text",
    "id": "dz2f9ZKVrx8e"
   },
   "source": [
    "Definimos la ruta del archivo"
   ]
  },
  {
   "cell_type": "code",
   "execution_count": 6,
   "metadata": {
    "colab": {},
    "colab_type": "code",
    "id": "jidxSEWhxYUj"
   },
   "outputs": [],
   "source": [
    "file = '../../Data/WhatsApp/Chat_limpio.csv'"
   ]
  },
  {
   "cell_type": "markdown",
   "metadata": {
    "colab_type": "text",
    "id": "R3R9ieA3r7Gz"
   },
   "source": [
    "Cargamos la tabla en un dataframe \n",
    "\n"
   ]
  },
  {
   "cell_type": "code",
   "execution_count": 7,
   "metadata": {
    "colab": {},
    "colab_type": "code",
    "id": "I10VvwRHsUVh"
   },
   "outputs": [],
   "source": [
    "df = pd.read_csv(file)"
   ]
  },
  {
   "cell_type": "code",
   "execution_count": 8,
   "metadata": {},
   "outputs": [
    {
     "data": {
      "text/html": [
       "<div>\n",
       "<style scoped>\n",
       "    .dataframe tbody tr th:only-of-type {\n",
       "        vertical-align: middle;\n",
       "    }\n",
       "\n",
       "    .dataframe tbody tr th {\n",
       "        vertical-align: top;\n",
       "    }\n",
       "\n",
       "    .dataframe thead th {\n",
       "        text-align: right;\n",
       "    }\n",
       "</style>\n",
       "<table border=\"1\" class=\"dataframe\">\n",
       "  <thead>\n",
       "    <tr style=\"text-align: right;\">\n",
       "      <th></th>\n",
       "      <th>fecha</th>\n",
       "      <th>hora</th>\n",
       "      <th>persona</th>\n",
       "      <th>mensaje</th>\n",
       "      <th>lab_minutes</th>\n",
       "    </tr>\n",
       "  </thead>\n",
       "  <tbody>\n",
       "    <tr>\n",
       "      <td>0</td>\n",
       "      <td>2019-03-08</td>\n",
       "      <td>13:14:00</td>\n",
       "      <td>x1</td>\n",
       "      <td>XD</td>\n",
       "      <td>478</td>\n",
       "    </tr>\n",
       "    <tr>\n",
       "      <td>1</td>\n",
       "      <td>2019-03-08</td>\n",
       "      <td>13:15:00</td>\n",
       "      <td>x2</td>\n",
       "      <td>Quien es Kike y quien ea Lalo?</td>\n",
       "      <td>479</td>\n",
       "    </tr>\n",
       "    <tr>\n",
       "      <td>2</td>\n",
       "      <td>2019-03-08</td>\n",
       "      <td>13:15:00</td>\n",
       "      <td>x2</td>\n",
       "      <td>🤔</td>\n",
       "      <td>479</td>\n",
       "    </tr>\n",
       "    <tr>\n",
       "      <td>3</td>\n",
       "      <td>2019-03-08</td>\n",
       "      <td>13:16:00</td>\n",
       "      <td>x3</td>\n",
       "      <td>&lt;Multimedia omitido&gt;</td>\n",
       "      <td>480</td>\n",
       "    </tr>\n",
       "    <tr>\n",
       "      <td>4</td>\n",
       "      <td>2019-03-08</td>\n",
       "      <td>13:17:00</td>\n",
       "      <td>x2</td>\n",
       "      <td>Va jeje</td>\n",
       "      <td>481</td>\n",
       "    </tr>\n",
       "  </tbody>\n",
       "</table>\n",
       "</div>"
      ],
      "text/plain": [
       "        fecha      hora persona                          mensaje  lab_minutes\n",
       "0  2019-03-08  13:14:00      x1                               XD          478\n",
       "1  2019-03-08  13:15:00      x2   Quien es Kike y quien ea Lalo?          479\n",
       "2  2019-03-08  13:15:00      x2                                🤔          479\n",
       "3  2019-03-08  13:16:00      x3             <Multimedia omitido>          480\n",
       "4  2019-03-08  13:17:00      x2                          Va jeje          481"
      ]
     },
     "execution_count": 8,
     "metadata": {},
     "output_type": "execute_result"
    }
   ],
   "source": [
    "df.head()"
   ]
  },
  {
   "cell_type": "markdown",
   "metadata": {},
   "source": [
    "# Ejercicio"
   ]
  },
  {
   "cell_type": "markdown",
   "metadata": {
    "colab_type": "text",
    "id": "BbXkPTMCsc5H"
   },
   "source": [
    "Copiamos el dataframe para trabajar sobre él sin alterar el origen de los datos"
   ]
  },
  {
   "cell_type": "code",
   "execution_count": 9,
   "metadata": {
    "colab": {},
    "colab_type": "code",
    "id": "7o9xoQkgsyJi"
   },
   "outputs": [],
   "source": [
    "df_copy = df.copy()"
   ]
  },
  {
   "cell_type": "markdown",
   "metadata": {
    "colab_type": "text",
    "id": "QGzz73Busy6C"
   },
   "source": [
    "Revisamos las dimensiones del problema, literalmente"
   ]
  },
  {
   "cell_type": "code",
   "execution_count": 10,
   "metadata": {
    "colab": {},
    "colab_type": "code",
    "id": "HadjwrmMtB74"
   },
   "outputs": [
    {
     "data": {
      "text/plain": [
       "(8130, 5)"
      ]
     },
     "execution_count": 10,
     "metadata": {},
     "output_type": "execute_result"
    }
   ],
   "source": [
    "df_copy.shape"
   ]
  },
  {
   "cell_type": "markdown",
   "metadata": {
    "colab_type": "text",
    "id": "Wy-HG_PotC9C"
   },
   "source": [
    "Revisamos el número de observaciones o filas"
   ]
  },
  {
   "cell_type": "code",
   "execution_count": 11,
   "metadata": {
    "colab": {},
    "colab_type": "code",
    "id": "rWQFi1BBtQtG"
   },
   "outputs": [
    {
     "data": {
      "text/plain": [
       "8130"
      ]
     },
     "execution_count": 11,
     "metadata": {},
     "output_type": "execute_result"
    }
   ],
   "source": [
    "df_copy.shape[0]"
   ]
  },
  {
   "cell_type": "markdown",
   "metadata": {
    "colab_type": "text",
    "id": "9lH-xS2PtRsb"
   },
   "source": [
    "Revisamos el número de variables o características o atributos"
   ]
  },
  {
   "cell_type": "code",
   "execution_count": 12,
   "metadata": {
    "colab": {},
    "colab_type": "code",
    "id": "oS5EmQFftYyV"
   },
   "outputs": [
    {
     "data": {
      "text/plain": [
       "5"
      ]
     },
     "execution_count": 12,
     "metadata": {},
     "output_type": "execute_result"
    }
   ],
   "source": [
    "df_copy.shape[1]"
   ]
  },
  {
   "cell_type": "markdown",
   "metadata": {
    "colab_type": "text",
    "id": "U6o0iWpstZrt"
   },
   "source": [
    "Revisamos las variables"
   ]
  },
  {
   "cell_type": "code",
   "execution_count": null,
   "metadata": {
    "colab": {},
    "colab_type": "code",
    "id": "HQm71PYmuaa0"
   },
   "outputs": [],
   "source": [
    "df_copy.columns"
   ]
  },
  {
   "cell_type": "markdown",
   "metadata": {
    "colab_type": "text",
    "id": "gyFin4FsvLPE"
   },
   "source": [
    "Enlistamos las columnas"
   ]
  },
  {
   "cell_type": "code",
   "execution_count": 13,
   "metadata": {
    "colab": {},
    "colab_type": "code",
    "id": "tfgodC65wsv_"
   },
   "outputs": [
    {
     "data": {
      "text/plain": [
       "['fecha', 'hora', 'persona', 'mensaje', 'lab_minutes']"
      ]
     },
     "execution_count": 13,
     "metadata": {},
     "output_type": "execute_result"
    }
   ],
   "source": [
    "list(df_copy.columns)"
   ]
  },
  {
   "cell_type": "markdown",
   "metadata": {
    "colab_type": "text",
    "id": "2yB3Bfp-wtss"
   },
   "source": [
    "Seleccionamos una variable y reviamos sus valores"
   ]
  },
  {
   "cell_type": "code",
   "execution_count": 14,
   "metadata": {
    "colab": {},
    "colab_type": "code",
    "id": "9H0rHVBew7nT"
   },
   "outputs": [
    {
     "data": {
      "text/plain": [
       "x5     1677\n",
       "x4     1418\n",
       "x8     1220\n",
       "x2      983\n",
       "x7      740\n",
       "x6      689\n",
       "x9      430\n",
       "x1      381\n",
       "x11     358\n",
       "x10     204\n",
       "x3       30\n",
       "Name: persona, dtype: int64"
      ]
     },
     "execution_count": 14,
     "metadata": {},
     "output_type": "execute_result"
    }
   ],
   "source": [
    "df_copy['persona'].value_counts()"
   ]
  },
  {
   "cell_type": "markdown",
   "metadata": {
    "colab_type": "text",
    "id": "qKKBnVcKxbbH"
   },
   "source": [
    "Seleccionamos una variable y revisamos los valores únicos"
   ]
  },
  {
   "cell_type": "code",
   "execution_count": 15,
   "metadata": {
    "colab": {},
    "colab_type": "code",
    "id": "c99sG6EAxoXD"
   },
   "outputs": [
    {
     "data": {
      "text/plain": [
       "array(['x1', 'x2', 'x3', 'x4', 'x5', 'x6', 'x7', 'x8', 'x9', 'x10', 'x11'],\n",
       "      dtype=object)"
      ]
     },
     "execution_count": 15,
     "metadata": {},
     "output_type": "execute_result"
    }
   ],
   "source": [
    "df_copy['persona'].unique()"
   ]
  },
  {
   "cell_type": "markdown",
   "metadata": {
    "colab_type": "text",
    "id": "4tf14f9WxrgE"
   },
   "source": [
    "Revisamos todas las columnas y checamos sus valores únicos "
   ]
  },
  {
   "cell_type": "code",
   "execution_count": 16,
   "metadata": {
    "colab": {},
    "colab_type": "code",
    "id": "ADChNAiAxwRS"
   },
   "outputs": [
    {
     "name": "stdout",
     "output_type": "stream",
     "text": [
      "COLUMNA:  fecha\n",
      "TIPO:  otro\n",
      "NUNIQUE:  241\n",
      "UNIQUE:  ['2019-03-08' '2019-03-12' '2019-03-13' '2019-03-14' '2019-03-19'\n",
      " '2019-03-20' '2019-03-22' '2019-03-25' '2019-03-27' '2019-03-28'\n",
      " '2019-03-29' '2019-04-02' '2019-04-03' '2019-04-04' '2019-04-05'\n",
      " '2019-04-08' '2019-04-09' '2019-04-10' '2019-04-11' '2019-04-12'\n",
      " '2019-04-15' '2019-04-16' '2019-04-17' '2019-04-22' '2019-04-23'\n",
      " '2019-04-24' '2019-04-25' '2019-04-26' '2019-04-29' '2019-04-30'\n",
      " '2019-05-01' '2019-05-02' '2019-05-03' '2019-05-06' '2019-05-07'\n",
      " '2019-05-08' '2019-05-09' '2019-05-10' '2019-05-13' '2019-05-14'\n",
      " '2019-05-15' '2019-05-16' '2019-05-19' '2019-05-20' '2019-05-21'\n",
      " '2019-05-23' '2019-05-24' '2019-05-27' '2019-05-28' '2019-05-29'\n",
      " '2019-05-30' '2019-05-31' '2019-06-03' '2019-06-04' '2019-06-05'\n",
      " '2019-06-06' '2019-06-07' '2019-06-10' '2019-06-11' '2019-06-12'\n",
      " '2019-06-13' '2019-06-17' '2019-06-18' '2019-06-19' '2019-06-20'\n",
      " '2019-06-21' '2019-06-22' '2019-06-24' '2019-06-26' '2019-06-27'\n",
      " '2019-06-28' '2019-07-01' '2019-07-02' '2019-07-03' '2019-07-04'\n",
      " '2019-07-05' '2019-07-07' '2019-07-08' '2019-07-09' '2019-07-10'\n",
      " '2019-07-11' '2019-07-12' '2019-07-14' '2019-07-15' '2019-07-16'\n",
      " '2019-07-17' '2019-07-18' '2019-07-19' '2019-07-22' '2019-07-23'\n",
      " '2019-07-24' '2019-07-25' '2019-07-26' '2019-07-27' '2019-07-29'\n",
      " '2019-07-30' '2019-07-31' '2019-08-02' '2019-08-05' '2019-08-06'\n",
      " '2019-08-07' '2019-08-08' '2019-08-09' '2019-08-12' '2019-08-13'\n",
      " '2019-08-14' '2019-08-15' '2019-08-16' '2019-08-19' '2019-08-20'\n",
      " '2019-08-21' '2019-08-22' '2019-08-23' '2019-08-25' '2019-08-26'\n",
      " '2019-08-27' '2019-08-28' '2019-08-29' '2019-08-30' '2019-09-02'\n",
      " '2019-09-03' '2019-09-04' '2019-09-05' '2019-09-08' '2019-09-09'\n",
      " '2019-09-10' '2019-09-11' '2019-09-12' '2019-09-13' '2019-09-14'\n",
      " '2019-09-15' '2019-09-16' '2019-09-17' '2019-09-18' '2019-09-19'\n",
      " '2019-09-21' '2019-09-22' '2019-09-23' '2019-09-24' '2019-09-25'\n",
      " '2019-09-26' '2019-09-27' '2019-09-28' '2019-09-29' '2019-09-30'\n",
      " '2019-10-01' '2019-10-02' '2019-10-03' '2019-10-04' '2019-10-06'\n",
      " '2019-10-07' '2019-10-08' '2019-10-09' '2019-10-10' '2019-10-11'\n",
      " '2019-10-14' '2019-10-15' '2019-10-16' '2019-10-17' '2019-10-18'\n",
      " '2019-10-19' '2019-10-20' '2019-10-21' '2019-10-22' '2019-10-23'\n",
      " '2019-10-24' '2019-10-25' '2019-10-27' '2019-10-28' '2019-10-30'\n",
      " '2019-10-31' '2019-11-01' '2019-11-02' '2019-11-04' '2019-11-05'\n",
      " '2019-11-06' '2019-11-07' '2019-11-08' '2019-11-10' '2019-11-11'\n",
      " '2019-11-12' '2019-11-13' '2019-11-14' '2019-11-15' '2019-11-17'\n",
      " '2019-11-19' '2019-11-20' '2019-11-21' '2019-11-22' '2019-11-23'\n",
      " '2019-11-24' '2019-11-25' '2019-11-26' '2019-11-27' '2019-11-28'\n",
      " '2019-11-29' '2019-11-30' '2019-12-01' '2019-12-02' '2019-12-03'\n",
      " '2019-12-04' '2019-12-05' '2019-12-06' '2019-12-09' '2019-12-10'\n",
      " '2019-12-11' '2019-12-12' '2019-12-13' '2019-12-16' '2019-12-17'\n",
      " '2019-12-18' '2019-12-19' '2019-12-20' '2019-12-22' '2019-12-23'\n",
      " '2019-12-24' '2019-12-27' '2019-12-28' '2019-12-30' '2019-12-31'\n",
      " '2020-01-01' '2020-01-02' '2020-01-03' '2020-01-06' '2020-01-07'\n",
      " '2020-01-08' '2020-01-09' '2020-01-10' '2020-01-13' '2020-01-16'\n",
      " '2020-01-17' '2020-01-19' '2020-01-20' '2020-01-21' '2020-01-22'\n",
      " '2020-01-23' '2020-01-24' '2020-01-26' '2020-01-27' '2020-01-28'\n",
      " '2020-01-29']\n",
      "VALUE COUNTS  2020-01-22    287\n",
      "2019-11-01    158\n",
      "2019-11-05    149\n",
      "2019-09-25    143\n",
      "2019-04-09    137\n",
      "             ... \n",
      "2019-07-29      3\n",
      "2019-06-22      3\n",
      "2019-09-21      2\n",
      "2019-05-01      2\n",
      "2020-01-10      1\n",
      "Name: fecha, Length: 241, dtype: int64\n",
      "\n",
      "\n",
      "COLUMNA:  hora\n",
      "TIPO:  otro\n",
      "NUNIQUE:  1049\n",
      "UNIQUE:  ['13:14:00' '13:15:00' '13:16:00' ... '03:16:00' '18:40:00' '20:03:00']\n",
      "VALUE COUNTS  13:06:00    49\n",
      "13:12:00    42\n",
      "14:48:00    41\n",
      "13:18:00    40\n",
      "13:21:00    39\n",
      "            ..\n",
      "23:09:00     1\n",
      "06:36:00     1\n",
      "10:51:00     1\n",
      "19:21:00     1\n",
      "09:34:00     1\n",
      "Name: hora, Length: 1049, dtype: int64\n",
      "\n",
      "\n",
      "COLUMNA:  persona\n",
      "TIPO:  otro\n",
      "NUNIQUE:  11\n",
      "UNIQUE:  ['x1' 'x2' 'x3' 'x4' 'x5' 'x6' 'x7' 'x8' 'x9' 'x10' 'x11']\n",
      "VALUE COUNTS  x5     1677\n",
      "x4     1418\n",
      "x8     1220\n",
      "x2      983\n",
      "x7      740\n",
      "x6      689\n",
      "x9      430\n",
      "x1      381\n",
      "x11     358\n",
      "x10     204\n",
      "x3       30\n",
      "Name: persona, dtype: int64\n",
      "\n",
      "\n",
      "COLUMNA:  mensaje\n",
      "TIPO:  otro\n",
      "NUNIQUE:  4232\n",
      "UNIQUE:  [' XD' ' Quien es Kike y quien ea Lalo?' ' 🤔' ... ' Jejejejejeje 🤣🤣🤣🤣'\n",
      " ' Jajajja no mames' ' Jajajajajajajaj Lalito']\n",
      "VALUE COUNTS   <Multimedia omitido>                                        2122\n",
      " Jajajajaja                                                    67\n",
      " Jajajaja                                                      62\n",
      "                                                               55\n",
      " X2                                                            55\n",
      "                                                             ... \n",
      " 😒🤔🤔🤔                                                           1\n",
      " Excelente guía para atraer morritas en la pista de baile       1\n",
      " Al camión                                                      1\n",
      " anda tenso?                                                    1\n",
      " 😢 espero no ser el siguiente                                   1\n",
      "Name: mensaje, Length: 4232, dtype: int64\n",
      "\n",
      "\n",
      "COLUMNA:  lab_minutes\n",
      "TIPO:  entero\n",
      "NUNIQUE:  1049\n",
      "UNIQUE:  [ 478  479  480 ... 1320  804  887]\n",
      "VALUE COUNTS  470     49\n",
      "476     42\n",
      "572     41\n",
      "482     40\n",
      "485     39\n",
      "        ..\n",
      "418      1\n",
      "398      1\n",
      "1128     1\n",
      "346      1\n",
      "64       1\n",
      "Name: lab_minutes, Length: 1049, dtype: int64\n",
      "\n",
      "\n"
     ]
    }
   ],
   "source": [
    "l = []\n",
    "bandera = np.NAN\n",
    "for column in df_copy.columns:\n",
    "    if df_copy[column].dtype == np.int64:\n",
    "        bandera = 'entero'\n",
    "    elif df_copy[column].dtype == np.float64:\n",
    "        bandera = 'flotante'\n",
    "    else:\n",
    "        bandera = 'otro'\n",
    "        \n",
    "    try:\n",
    "        df_copy[column] =df_copy[column].astype('int64')\n",
    "    except:\n",
    "        l.append(column)\n",
    "        \n",
    "    print('COLUMNA: ', column)\n",
    "    print('TIPO: ', bandera)\n",
    "    print('NUNIQUE: ', df_copy[column].nunique())\n",
    "    print('UNIQUE: ', df_copy[column].unique())\n",
    "    print('VALUE COUNTS ', df_copy[column].value_counts())\n",
    "    print('\\n')"
   ]
  },
  {
   "cell_type": "markdown",
   "metadata": {
    "colab_type": "text",
    "id": "L99lbSMxy7rc"
   },
   "source": [
    "Graficamos los datos en bruto (*raw data*)"
   ]
  },
  {
   "cell_type": "code",
   "execution_count": 17,
   "metadata": {
    "colab": {},
    "colab_type": "code",
    "id": "ZBYCR0TLzK0B"
   },
   "outputs": [
    {
     "data": {
      "text/plain": [
       "<matplotlib.axes._subplots.AxesSubplot at 0x7f153459f860>"
      ]
     },
     "execution_count": 17,
     "metadata": {},
     "output_type": "execute_result"
    },
    {
     "data": {
      "image/png": "[encoded data removed]",
      "text/plain": [
       "<Figure size 1728x720 with 3 Axes>"
      ]
     },
     "metadata": {
      "needs_background": "light"
     },
     "output_type": "display_data"
    }
   ],
   "source": [
    "msno.bar(df_copy)"
   ]
  },
  {
   "cell_type": "markdown",
   "metadata": {},
   "source": [
    "Revisamos la existencia de valores nulos"
   ]
  },
  {
   "cell_type": "code",
   "execution_count": 18,
   "metadata": {},
   "outputs": [
    {
     "data": {
      "text/plain": [
       "False"
      ]
     },
     "execution_count": 18,
     "metadata": {},
     "output_type": "execute_result"
    }
   ],
   "source": [
    "df_copy.isnull().any().any()"
   ]
  },
  {
   "cell_type": "markdown",
   "metadata": {},
   "source": [
    "_____\n",
    "**Al no haber valores nulos, entonces las siguientes líneas carecen un poco de sentido, sin embargo se correrán para verificar que en efecto no hay valores nulos.**\n",
    "_____"
   ]
  },
  {
   "cell_type": "markdown",
   "metadata": {},
   "source": [
    "Reemplazamos los valores ```&``` y ```' '``` por ```nan```"
   ]
  },
  {
   "cell_type": "code",
   "execution_count": 19,
   "metadata": {},
   "outputs": [],
   "source": [
    "df_copy.replace(to_replace='&', value=np.nan, inplace=True)"
   ]
  },
  {
   "cell_type": "code",
   "execution_count": 20,
   "metadata": {},
   "outputs": [],
   "source": [
    "df_copy.replace(to_replace=' ', value=np.nan, inplace=True)"
   ]
  },
  {
   "cell_type": "markdown",
   "metadata": {},
   "source": [
    "Revisamos (de nuevo) la existencia de valores nulos"
   ]
  },
  {
   "cell_type": "code",
   "execution_count": 21,
   "metadata": {},
   "outputs": [
    {
     "data": {
      "text/plain": [
       "True"
      ]
     },
     "execution_count": 21,
     "metadata": {},
     "output_type": "execute_result"
    }
   ],
   "source": [
    "df_copy.isnull().any().any()"
   ]
  },
  {
   "cell_type": "markdown",
   "metadata": {
    "colab_type": "text",
    "id": "L99lbSMxy7rc"
   },
   "source": [
    "Graficamos los datos con valores nulos reales"
   ]
  },
  {
   "cell_type": "code",
   "execution_count": 22,
   "metadata": {
    "colab": {},
    "colab_type": "code",
    "id": "ZBYCR0TLzK0B"
   },
   "outputs": [
    {
     "data": {
      "text/plain": [
       "<matplotlib.axes._subplots.AxesSubplot at 0x7f14fabb2be0>"
      ]
     },
     "execution_count": 22,
     "metadata": {},
     "output_type": "execute_result"
    },
    {
     "data": {
      "image/png": "[encoded data removed]",
      "text/plain": [
       "<Figure size 1728x720 with 3 Axes>"
      ]
     },
     "metadata": {
      "needs_background": "light"
     },
     "output_type": "display_data"
    }
   ],
   "source": [
    "msno.bar(df_copy)"
   ]
  },
  {
   "cell_type": "markdown",
   "metadata": {},
   "source": [
    "## Limpieza"
   ]
  },
  {
   "cell_type": "code",
   "execution_count": 23,
   "metadata": {},
   "outputs": [],
   "source": [
    "df_copy.fillna(value=-1, inplace=True)"
   ]
  },
  {
   "cell_type": "code",
   "execution_count": 24,
   "metadata": {},
   "outputs": [
    {
     "data": {
      "text/plain": [
       "6098"
      ]
     },
     "execution_count": 24,
     "metadata": {},
     "output_type": "execute_result"
    }
   ],
   "source": [
    "threshold = round(df_copy.shape[0]*.75)\n",
    "threshold"
   ]
  },
  {
   "cell_type": "code",
   "execution_count": 25,
   "metadata": {},
   "outputs": [
    {
     "name": "stdout",
     "output_type": "stream",
     "text": [
      "fecha :  8129  -  6098\n",
      "hora :  8129  -  6098\n",
      "persona :  8100  -  6098\n",
      "mensaje :  8075  -  6098\n"
     ]
    }
   ],
   "source": [
    "l = []\n",
    "for column in df_copy.columns:\n",
    "    na_column =  df_copy[column].value_counts().get(-1)\n",
    "    if(na_column != None):\n",
    "        print(column, ': ', df_copy.shape[0] - na_column, ' - ', threshold)\n",
    "        if (df_copy.shape[0] - na_column < threshold):\n",
    "            print(column, ': ', 'd e l e t e d')\n",
    "            l.append(column)"
   ]
  },
  {
   "cell_type": "code",
   "execution_count": 26,
   "metadata": {},
   "outputs": [
    {
     "data": {
      "text/plain": [
       "[]"
      ]
     },
     "execution_count": 26,
     "metadata": {},
     "output_type": "execute_result"
    }
   ],
   "source": [
    "l"
   ]
  },
  {
   "cell_type": "code",
   "execution_count": 27,
   "metadata": {},
   "outputs": [],
   "source": [
    "df_copy.drop(labels=l, axis=1, inplace=True)"
   ]
  },
  {
   "cell_type": "code",
   "execution_count": 28,
   "metadata": {},
   "outputs": [],
   "source": [
    "df_copy.replace(to_replace=-1, value=np.NaN, inplace=True)"
   ]
  },
  {
   "cell_type": "code",
   "execution_count": 29,
   "metadata": {},
   "outputs": [
    {
     "data": {
      "text/plain": [
       "<matplotlib.axes._subplots.AxesSubplot at 0x7f14fa75a978>"
      ]
     },
     "execution_count": 29,
     "metadata": {},
     "output_type": "execute_result"
    },
    {
     "data": {
      "image/png": "[encoded data removed]",
      "text/plain": [
       "<Figure size 1728x720 with 3 Axes>"
      ]
     },
     "metadata": {
      "needs_background": "light"
     },
     "output_type": "display_data"
    }
   ],
   "source": [
    "msno.bar(df_copy)"
   ]
  },
  {
   "cell_type": "markdown",
   "metadata": {},
   "source": [
    "Guardamos el dataframe "
   ]
  }
 ],
 "metadata": {
  "colab": {
   "name": "Práctica 2.ipynb",
   "provenance": []
  },
  "kernelspec": {
   "display_name": "Python 3",
   "language": "python",
   "name": "python3"
  },
  "language_info": {
   "codemirror_mode": {
    "name": "ipython",
    "version": 3
   },
   "file_extension": ".py",
   "mimetype": "text/x-python",
   "name": "python",
   "nbconvert_exporter": "python",
   "pygments_lexer": "ipython3",
   "version": "3.7.3"
  }
 },
 "nbformat": 4,
 "nbformat_minor": 4
}
